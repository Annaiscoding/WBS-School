{
  "nbformat": 4,
  "nbformat_minor": 0,
  "metadata": {
    "colab": {
      "provenance": [],
      "authorship_tag": "ABX9TyPWLKaWaGjeT9Kox2qFVBis"
    },
    "kernelspec": {
      "name": "python3",
      "display_name": "Python 3"
    },
    "language_info": {
      "name": "python"
    }
  },
  "cells": [
    {
      "cell_type": "code",
      "execution_count": null,
      "metadata": {
        "id": "L4h6c_pULFzb"
      },
      "outputs": [],
      "source": [
        "import pandas as pd\n",
        "from sklearn.preprocessing import MinMaxScaler\n",
        "from sklearn.cluster import KMeans\n",
        "songs = pd.read_csv(\"df_audio_features_5000\")\n",
        "songs.columns=songs.columns.str.strip()\n",
        "songs.drop_duplicates(inplace=True)\n",
        "songs.dropna(inplace=True)\n",
        "scaler = MinMaxScaler()\n",
        "num_cols = ['danceability', 'energy', 'loudness', 'speechiness', 'acousticness', 'instrumentalness', 'liveness', 'valence', 'tempo']\n",
        "songs[num_cols] = scaler.fit_transform(songs[num_cols])\n",
        "kmeans = KMeans(n_clusters=5, init='k-means++', random_state=42)\n",
        "kmeans.fit(songs[num_cols])\n",
        "songs['cluster'] = kmeans.labels_"
      ]
    },
    {
      "cell_type": "code",
      "source": [
        "songs=songs.sample(30)\n",
        "songs.groupby(\"cluster\").count()"
      ],
      "metadata": {
        "id": "QayUqHggLPT6"
      },
      "execution_count": null,
      "outputs": []
    },
    {
      "cell_type": "code",
      "source": [
        "import spotipy\n",
        "from spotipy.oauth2 import SpotifyOAuth\n",
        "import pandas as pd\n",
        "\n",
        "client_id = 'YOUR_CLIENT_ID'  \n",
        "client_secret = 'YOUR_CLIENT_SECRET'  \n",
        "redirect_uri = 'YOUR_URI'  \n",
        "scope = 'playlist-modify-public'\n",
        "\n",
        "sp = spotipy.Spotify(auth_manager=SpotifyOAuth(client_id=client_id, client_secret=client_secret, redirect_uri=redirect_uri, scope=scope))\n",
        "\n",
        "for cluster_id in songs['cluster'].unique():\n",
        "\n",
        "    cluster_songs = songs[songs['cluster'] == cluster_id]\n",
        "\n",
        "    playlist_name = f'Cluster {cluster_id} Playlist'\n",
        "    playlist_description = f'A playlist with representative songs from cluster {cluster_id}'\n",
        "    playlist = sp.user_playlist_create(user='YOUR_USERNAME', name=playlist_name, public=True, description=playlist_description)  \n",
        "    playlist_id = playlist['id']\n",
        "    \n",
        "    song_ids = cluster_songs['id']\n",
        "    song_ids = [song_id.strip() for song_id in song_ids]\n",
        "    track_uris = [f'spotify:track:{song_id}' for song_id in song_ids]\n",
        "    sp.playlist_add_items(playlist_id=playlist_id, items=track_uris)\n",
        "    print(f'Added {len(track_uris)} songs to {playlist_name}')"
      ],
      "metadata": {
        "id": "2KUGMPTSLSZi"
      },
      "execution_count": null,
      "outputs": []
    }
  ]
}