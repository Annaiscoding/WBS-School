{
  "nbformat": 4,
  "nbformat_minor": 0,
  "metadata": {
    "colab": {
      "provenance": [],
      "collapsed_sections": [
        "JJVtcioOS7LY",
        "NQGf8SRnSEPv",
        "bCFaujxxTV4W",
        "fthZRppFQAqG"
      ],
      "authorship_tag": "ABX9TyMxVTMTYOHA4MaAWNyr+MZX"
    },
    "kernelspec": {
      "name": "python3",
      "display_name": "Python 3"
    },
    "language_info": {
      "name": "python"
    }
  },
  "cells": [
    {
      "cell_type": "markdown",
      "source": [
        "# Poor man"
      ],
      "metadata": {
        "id": "JJVtcioOS7LY"
      }
    },
    {
      "cell_type": "code",
      "source": [
        "hangman={0:'''\n",
        "        ____________\n",
        "         |''',\n",
        "        1:'''\n",
        "        ____________\n",
        "         |\n",
        "         O''',\n",
        "        2:'''\n",
        "        ____________\n",
        "         |\n",
        "         O\n",
        "        /''',\n",
        "        3:'''\n",
        "        ____________\n",
        "         |\n",
        "         O\n",
        "        / \\\\''',\n",
        "        4:'''\n",
        "        ____________\n",
        "         |\n",
        "         O\n",
        "        / \\\\\n",
        "         |''',\n",
        "        5:'''\n",
        "        ____________\n",
        "         |\n",
        "         O\n",
        "        / \\\\\n",
        "         |\n",
        "        /''',\n",
        "        6:'''\n",
        "        ____________\n",
        "         |\n",
        "         O\n",
        "        / \\\\\n",
        "         |\n",
        "        / \\\\ '''}"
      ],
      "metadata": {
        "id": "I_dt8nUiTAd1"
      },
      "execution_count": 1,
      "outputs": []
    },
    {
      "cell_type": "markdown",
      "source": [
        "# Hidden dictionary of statistical terms"
      ],
      "metadata": {
        "id": "NQGf8SRnSEPv"
      }
    },
    {
      "cell_type": "code",
      "source": [
        "import random\n",
        "easy = {\"variance\": \"Shows the degree of spread in the dataset\",\n",
        "    \"population\": \"Entirety of subjects, sharing at least one common feature\",\n",
        "    \"probability\": \"Proportion of times the outcome would occur during the infinite time of observations\",\n",
        "    \"disjoint\": \"Events, that can't happen at the same time\",\n",
        "    \"baseline\": \"Makes it possible to see, whether the treatment has an effect\",\n",
        "    \"snooping\": \"Torturing data until it confesses\"}\n",
        "medium = {\n",
        "    \"scatterplot\": \"A type of data display that shows the relationship between two numerical variables\",\n",
        "    \"hypothesis\": \"A statement about the nature of a population\", \n",
        "    \"empirical\": \"The most common distributions in Data Science\",\n",
        "    \"interpolation\": \"Type of estimation, a method of constructing (finding) new data points based on the range of a discrete set of known data points\",\n",
        "    \"causation\": \"A direct relationship between two variables\"}\n",
        "hard = {\"heteroscedasticity\":  \"Shows the scatter in vertical slices through the plot depends on where you take the slice\",\n",
        "    \"permutation\": \"An arrangement of the elements of the set in some order\",\n",
        "    \"residual\": \"The difference between a datum (observed value) and the value predicted for it by a model\",\n",
        "    \"longitudinal\": \"A study in which individuals are followed over time, and compared with themselves at different times, adj\"}\n",
        "list_dicts = [easy, medium, hard]\n",
        "emoji = [\" 🛵 \", \" 🚘 \", \" ✈️ \"]\n"
      ],
      "metadata": {
        "id": "U05ULJINPBOj"
      },
      "execution_count": 2,
      "outputs": []
    },
    {
      "cell_type": "markdown",
      "source": [
        "# Defining a game"
      ],
      "metadata": {
        "id": "bCFaujxxTV4W"
      }
    },
    {
      "cell_type": "code",
      "source": [
        "from IPython.display import clear_output\n",
        "def game():\n",
        "  level = 0\n",
        "  emo = \"\"\n",
        "  game_over = False\n",
        "  while level < 3 and not game_over:\n",
        "      term, definition = random.choice(list(list_dicts[level].items()))\n",
        "      word = term.upper()\n",
        "      hidden_word = []\n",
        "      efforts = 6\n",
        "      emo += emoji[level]\n",
        "      wrong_letters = []\n",
        "      for letter in word:\n",
        "          hidden_word.append(\"-\")\n",
        "      while efforts > 0 and \"-\" in hidden_word:\n",
        "          print (emo)\n",
        "          print(f\"Help this guy, to stay out of trouble.{hangman[efforts]}\") \n",
        "          print(definition)\n",
        "          print(' '.join(hidden_word))\n",
        "          print(f\"\\n🙅🏽‍♂️  Wrong letters:{'  '.join(wrong_letters)}  👀\\n\")\n",
        "          guess = input(\"What's your letter?\\n\").upper()\n",
        "          clear_output(wait=True)\n",
        "          if guess in word:\n",
        "            for position in range(len(word)):\n",
        "              if guess == word[position]:\n",
        "                hidden_word[position] = guess\n",
        "            print(f\"You are right! 👍🏼\")\n",
        "            if \"-\" not in hidden_word or guess == word:\n",
        "              hidden_word = \"unhidden\"\n",
        "              print(f\"Congratulations 👍🏼 . It is:{word}, you won!\\n\\nTime to level up!\\n\")\n",
        "              level += 1\n",
        "          else:\n",
        "              efforts -= 1\n",
        "              wrong_letters.append(guess)\n",
        "              print(f\"Wrong! You've got {efforts} more lives.👎🏼\")\n",
        "              if efforts == 0:\n",
        "                print(f\"Hanged.{hangman[efforts]} The word is {word}.👻\")\n",
        "                game_over = True\n",
        "  if level == 3:        \n",
        "    print(\"Oh wait, no space to grow higher. That's a legendary Victory!  🪐\")"
      ],
      "metadata": {
        "id": "OK_mnck2TeV2"
      },
      "execution_count": 5,
      "outputs": []
    },
    {
      "cell_type": "markdown",
      "source": [
        "# Game"
      ],
      "metadata": {
        "id": "fthZRppFQAqG"
      }
    },
    {
      "cell_type": "code",
      "source": [
        "game()"
      ],
      "metadata": {
        "id": "6DO8bf8CP02O"
      },
      "execution_count": null,
      "outputs": []
    }
  ]
}