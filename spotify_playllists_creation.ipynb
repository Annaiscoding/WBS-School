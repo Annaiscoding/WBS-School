{
  "nbformat": 4,
  "nbformat_minor": 0,
  "metadata": {
    "colab": {
      "provenance": [],
      "authorship_tag": "ABX9TyObnNLXbKWHWDKk+zWqJPm5"
    },
    "kernelspec": {
      "name": "python3",
      "display_name": "Python 3"
    },
    "language_info": {
      "name": "python"
    }
  },
  "cells": [
    {
      "cell_type": "code",
      "execution_count": null,
      "metadata": {
        "id": "96WVlu5qBS8c"
      },
      "outputs": [],
      "source": [
        "import spotipy\n",
        "from spotipy.oauth2 import SpotifyOAuth\n",
        "import pandas as pd\n",
        "\n",
        "client_id = 'YOUR_CLIENT_ID'\n",
        "client_secret = 'YOUR_CLIENT_SECRET'\n",
        "redirect_uri = 'http://localhost:3000'\n",
        "scope = 'playlist-modify-public'\n",
        "\n",
        "sp = spotipy.Spotify(auth_manager=SpotifyOAuth(client_id=client_id, client_secret=client_secret, redirect_uri=redirect_uri, scope=scope))\n",
        "\n",
        "for cluster_id in songs['cluster'].unique():\n",
        "\n",
        "    cluster_songs = songs[songs['cluster'] == cluster_id]\n",
        "\n",
        "    playlist_name = f'Cluster {cluster_id} Playlist'\n",
        "    playlist_description = f'A playlist with representative songs from cluster {cluster_id}'\n",
        "    playlist = sp.user_playlist_create(user='YOUR_SPOTIFY_USER', name=playlist_name, public=True, description=playlist_description)\n",
        "    playlist_id = playlist['id']\n",
        "    \n",
        "    # Add the songs to the playlist\n",
        "    song_ids = cluster_songs['id']\n",
        "    song_ids = [song_id.strip() for song_id in song_ids]\n",
        "    track_uris = [f'spotify:track:{song_id}' for song_id in song_ids]\n",
        "    sp.playlist_add_items(playlist_id=playlist_id, items=track_uris)\n",
        "    print(f'Added {len(track_uris)} songs to {playlist_name}')"
      ]
    }
  ]
}