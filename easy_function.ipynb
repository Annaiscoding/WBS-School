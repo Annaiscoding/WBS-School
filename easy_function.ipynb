{
  "nbformat": 4,
  "nbformat_minor": 0,
  "metadata": {
    "colab": {
      "provenance": [],
      "collapsed_sections": [
        "JJVtcioOS7LY",
        "NQGf8SRnSEPv",
        "bCFaujxxTV4W"
      ],
      "authorship_tag": "ABX9TyPy9OhZmMzRzc1DlKfFRqLy"
    },
    "kernelspec": {
      "name": "python3",
      "display_name": "Python 3"
    },
    "language_info": {
      "name": "python"
    }
  },
  "cells": [
    {
      "cell_type": "markdown",
      "source": [
        "# Poor man"
      ],
      "metadata": {
        "id": "JJVtcioOS7LY"
      }
    },
    {
      "cell_type": "code",
      "source": [
        "hangman={0:'''\n",
        "        ____________\n",
        "         |''',\n",
        "        1:'''\n",
        "        ____________\n",
        "         |\n",
        "         O''',\n",
        "        2:'''\n",
        "        ____________\n",
        "         |\n",
        "         O\n",
        "        /''',\n",
        "        3:'''\n",
        "        ____________\n",
        "         |\n",
        "         O\n",
        "        / \\\\''',\n",
        "        4:'''\n",
        "        ____________\n",
        "         |\n",
        "         O\n",
        "        / \\\\\n",
        "         |''',\n",
        "        5:'''\n",
        "        ____________\n",
        "         |\n",
        "         O\n",
        "        / \\\\\n",
        "         |\n",
        "        /''',\n",
        "        6:'''\n",
        "        ____________\n",
        "         |\n",
        "         O\n",
        "        / \\\\\n",
        "         |\n",
        "        / \\\\ '''}"
      ],
      "metadata": {
        "id": "I_dt8nUiTAd1"
      },
      "execution_count": null,
      "outputs": []
    },
    {
      "cell_type": "markdown",
      "source": [
        "# Hidden dictionary of statistical terms"
      ],
      "metadata": {
        "id": "NQGf8SRnSEPv"
      }
    },
    {
      "cell_type": "code",
      "source": [
        "import random\n",
        "easy = {\"variance\": \"Shows the degree of spread in the dataset\",\n",
        "    \"population\": \"Entirety of subjects, sharing at least one common feature\",\n",
        "    \"probability\": \"Proportion of times the outcome would occur during the infinite time of observations\",\n",
        "    \"disjoint\": \"Events, that can't happen at the same time\",\n",
        "    \"baseline\": \"Makes it possible to see, whether the treatment has an effect\",\n",
        "    \"snooping\": \"Torturing data until it confesses\"}\n",
        "medium = {\n",
        "    \"scatterplot\": \"A type of data display that shows the relationship between two numerical variables\",\n",
        "    \"hypothesis\": \"A statement about the nature of a population\", \n",
        "    \"empirical\": \"The most common distributions in Data Science\",\n",
        "    \"interpolation\": \"Type of estimation, a method of constructing (finding) new data points based on the range of a discrete set of known data points\",\n",
        "    \"causation\": \"A direct relationship between two variables\"}\n",
        "hard = {\"heteroscedasticity\":  \"shows the scatter in vertical slices through the plot depends on where you take the slice\",\n",
        "    \"permutation\": \"an arrangement of the elements of the set in some order\",\n",
        "    \"residual\": \"the difference between a datum (observed value) and the value predicted for it by a model\",\n",
        "    \"longitudinal\": \"a study in which individuals are followed over time, and compared with themselves at different times, adj\"}\n",
        "list_dicts = [easy, medium, hard]\n",
        "list_terms = []\n",
        "emoji = [\" ☝️ \", \" ✌️ \", \" 🤟 \"]\n"
      ],
      "metadata": {
        "id": "U05ULJINPBOj"
      },
      "execution_count": null,
      "outputs": []
    },
    {
      "cell_type": "markdown",
      "source": [
        "# Defining my_game()"
      ],
      "metadata": {
        "id": "bCFaujxxTV4W"
      }
    },
    {
      "cell_type": "code",
      "source": [
        "def my_game(word):\n",
        "    from IPython.display import clear_output\n",
        "    hidden_word = []\n",
        "    for letter in word:\n",
        "        hidden_word.append(\"-\")\n",
        "    number_lives = 6\n",
        "    while \"-\" in hidden_word and number_lives > 0:\n",
        "        print(f\"{' '.join(hidden_word)}\\n{hangman[number_lives]}\")\n",
        "        guess = input(\"Pick a letter \\n\").lower()\n",
        "        clear_output(wait=True)\n",
        "        if guess in word:\n",
        "            for position in range(len(word)):\n",
        "                if guess == word[position]:\n",
        "                    hidden_word[position] = guess.upper()\n",
        "            print(f\"Correct. {guess} is in a word 👍🏼\")\n",
        "            if \"-\" not in hidden_word:\n",
        "                print(f\"Congratulations, word is {word.upper()}, you won 👍🏼\")\n",
        "        else:\n",
        "            number_lives -= 1\n",
        "            print(f\"Wrong. Number of lives is {number_lives} 👎🏼\")\n",
        "            if number_lives == 0:\n",
        "                print(f\"You've lost. 👻  The word is {word.upper()}\")"
      ],
      "metadata": {
        "id": "OK_mnck2TeV2"
      },
      "execution_count": null,
      "outputs": []
    },
    {
      "cell_type": "markdown",
      "source": [
        "# Game"
      ],
      "metadata": {
        "id": "fthZRppFQAqG"
      }
    },
    {
      "cell_type": "code",
      "source": [
        "import random\n",
        "level = int(input(f\"Choose a level: 0, 1, 2\\n\"))\n",
        "term, definition = random.choice(list(list_dicts[level].items()))\n",
        "print (emoji[level], definition)\n",
        "my_game(term)"
      ],
      "metadata": {
        "colab": {
          "base_uri": "https://localhost:8080/"
        },
        "id": "6DO8bf8CP02O",
        "outputId": "368a0157-dcda-4d42-829f-b7d869ca4f91"
      },
      "execution_count": null,
      "outputs": [
        {
          "output_type": "stream",
          "name": "stdout",
          "text": [
            "Correct. g is in a word 👍🏼\n",
            "Congratulations, word is SNOOPING, you won 👍🏼\n"
          ]
        }
      ]
    }
  ]
}